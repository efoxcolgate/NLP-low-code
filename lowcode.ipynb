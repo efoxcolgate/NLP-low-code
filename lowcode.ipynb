{
  "nbformat": 4,
  "nbformat_minor": 0,
  "metadata": {
    "colab": {
      "name": "lowcode.ipynb",
      "provenance": [],
      "authorship_tag": "ABX9TyOL6nmc+IhAejbp4vhhFn5g",
      "include_colab_link": true
    },
    "kernelspec": {
      "name": "python3",
      "display_name": "Python 3"
    },
    "language_info": {
      "name": "python"
    }
  },
  "cells": [
    {
      "cell_type": "markdown",
      "metadata": {
        "id": "view-in-github",
        "colab_type": "text"
      },
      "source": [
        "<a href=\"https://colab.research.google.com/github/efoxcolgate/NLP-low-code/blob/main/lowcode.ipynb\" target=\"_parent\"><img src=\"https://colab.research.google.com/assets/colab-badge.svg\" alt=\"Open In Colab\"/></a>"
      ]
    },
    {
      "cell_type": "markdown",
      "metadata": {
        "id": "XH6jbXByK1-F"
      },
      "source": [
        "## Ingest Data"
      ]
    },
    {
      "cell_type": "code",
      "metadata": {
        "colab": {
          "base_uri": "https://localhost:8080/"
        },
        "id": "MdgkJtjaKpMT",
        "outputId": "c702be9a-4bf0-4862-c9b8-20bad4db7d24"
      },
      "source": [
        "!wget https://raw.githubusercontent.com/efoxcolgate/NLP-low-code/main/Frankenstein-book"
      ],
      "execution_count": 1,
      "outputs": [
        {
          "output_type": "stream",
          "name": "stdout",
          "text": [
            "--2021-09-17 00:35:51--  https://raw.githubusercontent.com/efoxcolgate/NLP-low-code/main/Frankenstein-book\n",
            "Resolving raw.githubusercontent.com (raw.githubusercontent.com)... 185.199.108.133, 185.199.109.133, 185.199.110.133, ...\n",
            "Connecting to raw.githubusercontent.com (raw.githubusercontent.com)|185.199.108.133|:443... connected.\n",
            "HTTP request sent, awaiting response... 200 OK\n",
            "Length: 421119 (411K) [text/plain]\n",
            "Saving to: ‘Frankenstein-book’\n",
            "\n",
            "Frankenstein-book   100%[===================>] 411.25K  --.-KB/s    in 0.03s   \n",
            "\n",
            "2021-09-17 00:35:51 (12.0 MB/s) - ‘Frankenstein-book’ saved [421119/421119]\n",
            "\n"
          ]
        }
      ]
    }
  ]
}