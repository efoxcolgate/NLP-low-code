{
  "nbformat": 4,
  "nbformat_minor": 0,
  "metadata": {
    "colab": {
      "name": "lowcode.ipynb",
      "provenance": [],
      "collapsed_sections": [],
      "authorship_tag": "ABX9TyOoyEu3ht1NuUDS4uqFFl+y",
      "include_colab_link": true
    },
    "kernelspec": {
      "name": "python3",
      "display_name": "Python 3"
    },
    "language_info": {
      "name": "python"
    }
  },
  "cells": [
    {
      "cell_type": "markdown",
      "metadata": {
        "id": "view-in-github",
        "colab_type": "text"
      },
      "source": [
        "<a href=\"https://colab.research.google.com/github/erikanfox/NLP-low-code/blob/main/lowcode.ipynb\" target=\"_parent\"><img src=\"https://colab.research.google.com/assets/colab-badge.svg\" alt=\"Open In Colab\"/></a>"
      ]
    },
    {
      "cell_type": "markdown",
      "metadata": {
        "id": "XH6jbXByK1-F"
      },
      "source": [
        "## Ingest Data"
      ]
    },
    {
      "cell_type": "code",
      "metadata": {
        "colab": {
          "base_uri": "https://localhost:8080/"
        },
        "id": "MdgkJtjaKpMT",
        "outputId": "f6ee1e51-21b4-4dca-b74a-7c71999aeb6f"
      },
      "source": [
        "!wget https://raw.githubusercontent.com/efoxcolgate/NLP-low-code/main/Frankenstein-book\n",
        "!wget https://raw.githubusercontent.com/efoxcolgate/NLP-low-code/main/Mathilda-book\n",
        "!wget https://raw.githubusercontent.com/efoxcolgate/NLP-low-code/main/greatgatsby-book"
      ],
      "execution_count": null,
      "outputs": [
        {
          "output_type": "stream",
          "name": "stdout",
          "text": [
            "--2021-09-30 20:33:54--  https://raw.githubusercontent.com/efoxcolgate/NLP-low-code/main/Frankenstein-book\n",
            "Resolving raw.githubusercontent.com (raw.githubusercontent.com)... 185.199.109.133, 185.199.111.133, 185.199.110.133, ...\n",
            "Connecting to raw.githubusercontent.com (raw.githubusercontent.com)|185.199.109.133|:443... connected.\n",
            "HTTP request sent, awaiting response... 200 OK\n",
            "Length: 421119 (411K) [text/plain]\n",
            "Saving to: ‘Frankenstein-book’\n",
            "\n",
            "Frankenstein-book   100%[===================>] 411.25K  --.-KB/s    in 0.04s   \n",
            "\n",
            "2021-09-30 20:33:54 (11.2 MB/s) - ‘Frankenstein-book’ saved [421119/421119]\n",
            "\n",
            "--2021-09-30 20:33:55--  https://raw.githubusercontent.com/efoxcolgate/NLP-low-code/main/Mathilda-book\n",
            "Resolving raw.githubusercontent.com (raw.githubusercontent.com)... 185.199.109.133, 185.199.111.133, 185.199.110.133, ...\n",
            "Connecting to raw.githubusercontent.com (raw.githubusercontent.com)|185.199.109.133|:443... connected.\n",
            "HTTP request sent, awaiting response... 200 OK\n",
            "Length: 238672 (233K) [text/plain]\n",
            "Saving to: ‘Mathilda-book’\n",
            "\n",
            "Mathilda-book       100%[===================>] 233.08K  --.-KB/s    in 0.02s   \n",
            "\n",
            "2021-09-30 20:33:55 (15.2 MB/s) - ‘Mathilda-book’ saved [238672/238672]\n",
            "\n",
            "--2021-09-30 20:33:55--  https://raw.githubusercontent.com/efoxcolgate/NLP-low-code/main/greatgatsby-book\n",
            "Resolving raw.githubusercontent.com (raw.githubusercontent.com)... 185.199.108.133, 185.199.109.133, 185.199.110.133, ...\n",
            "Connecting to raw.githubusercontent.com (raw.githubusercontent.com)|185.199.108.133|:443... connected.\n",
            "HTTP request sent, awaiting response... 200 OK\n",
            "Length: 280023 (273K) [text/plain]\n",
            "Saving to: ‘greatgatsby-book’\n",
            "\n",
            "greatgatsby-book    100%[===================>] 273.46K  --.-KB/s    in 0.02s   \n",
            "\n",
            "2021-09-30 20:33:55 (11.9 MB/s) - ‘greatgatsby-book’ saved [280023/280023]\n",
            "\n"
          ]
        }
      ]
    },
    {
      "cell_type": "code",
      "metadata": {
        "colab": {
          "base_uri": "https://localhost:8080/"
        },
        "id": "Xm-dw73HUT8A",
        "outputId": "1c2c34dc-d5aa-4b07-9584-bd8e378ce978"
      },
      "source": [
        "!wget https://raw.githubusercontent.com/efoxcolgate/NLP-low-code/main/tur"
      ],
      "execution_count": null,
      "outputs": [
        {
          "output_type": "stream",
          "name": "stdout",
          "text": [
            "--2021-09-30 20:33:56--  https://raw.githubusercontent.com/efoxcolgate/NLP-low-code/main/tur\n",
            "Resolving raw.githubusercontent.com (raw.githubusercontent.com)... 185.199.108.133, 185.199.109.133, 185.199.110.133, ...\n",
            "Connecting to raw.githubusercontent.com (raw.githubusercontent.com)|185.199.108.133|:443... connected.\n",
            "HTTP request sent, awaiting response... 200 OK\n",
            "Length: 8945 (8.7K) [text/plain]\n",
            "Saving to: ‘tur’\n",
            "\n",
            "\rtur                   0%[                    ]       0  --.-KB/s               \rtur                 100%[===================>]   8.74K  --.-KB/s    in 0s      \n",
            "\n",
            "2021-09-30 20:33:56 (64.4 MB/s) - ‘tur’ saved [8945/8945]\n",
            "\n"
          ]
        }
      ]
    },
    {
      "cell_type": "code",
      "metadata": {
        "colab": {
          "base_uri": "https://localhost:8080/"
        },
        "id": "ZW7u8LMjMY21",
        "outputId": "58de492f-4687-4a01-9c40-9a50e2b75bab"
      },
      "source": [
        "import spacy.cli\n",
        "spacy.cli.download(\"en_core_web_lg\")"
      ],
      "execution_count": null,
      "outputs": [
        {
          "output_type": "stream",
          "name": "stdout",
          "text": [
            "\u001b[38;5;2m✔ Download and installation successful\u001b[0m\n",
            "You can now load the model via spacy.load('en_core_web_lg')\n"
          ]
        }
      ]
    },
    {
      "cell_type": "code",
      "metadata": {
        "id": "y5rdmatQMgvK"
      },
      "source": [
        "from pathlib import Path\n",
        "import spacy"
      ],
      "execution_count": null,
      "outputs": []
    },
    {
      "cell_type": "code",
      "metadata": {
        "id": "KsqzL_HENOwL"
      },
      "source": [
        "nlp=spacy.load(\"en_core_web_lg\")"
      ],
      "execution_count": null,
      "outputs": []
    },
    {
      "cell_type": "code",
      "metadata": {
        "id": "ooxnInWBMogx"
      },
      "source": [
        "txtFrank=nlp(Path('Frankenstein-book').read_text())\n",
        "txtMath=nlp(Path('Mathilda-book').read_text())\n",
        "txtgatsby=nlp(Path('greatgatsby-book').read_text())"
      ],
      "execution_count": null,
      "outputs": []
    },
    {
      "cell_type": "code",
      "metadata": {
        "id": "zo_it3P8UgOw"
      },
      "source": [
        "txttur=nlp(Path('tur').read_text())"
      ],
      "execution_count": null,
      "outputs": []
    },
    {
      "cell_type": "code",
      "metadata": {
        "colab": {
          "base_uri": "https://localhost:8080/"
        },
        "id": "0B7mSy2mM3j9",
        "outputId": "77d261fc-c182-4a7e-e996-36121e803568"
      },
      "source": [
        "txtFrank.similarity(txtMath)"
      ],
      "execution_count": null,
      "outputs": [
        {
          "output_type": "execute_result",
          "data": {
            "text/plain": [
              "0.9974649158706187"
            ]
          },
          "metadata": {},
          "execution_count": 11
        }
      ]
    },
    {
      "cell_type": "code",
      "metadata": {
        "colab": {
          "base_uri": "https://localhost:8080/"
        },
        "id": "DkvU_I1PT0D2",
        "outputId": "b3e4d6cc-6efd-4e68-a28d-08be0d102d13"
      },
      "source": [
        "txtFrank.similarity(txtgatsby)"
      ],
      "execution_count": null,
      "outputs": [
        {
          "output_type": "execute_result",
          "data": {
            "text/plain": [
              "0.9872751201867247"
            ]
          },
          "metadata": {},
          "execution_count": 12
        }
      ]
    },
    {
      "cell_type": "code",
      "metadata": {
        "colab": {
          "base_uri": "https://localhost:8080/"
        },
        "id": "WNDxqPuZT3Zm",
        "outputId": "925db33b-bbab-412f-d10d-802b0b66ab70"
      },
      "source": [
        "txtMath.similarity(txtgatsby)"
      ],
      "execution_count": null,
      "outputs": [
        {
          "output_type": "execute_result",
          "data": {
            "text/plain": [
              "0.9868334936300606"
            ]
          },
          "metadata": {},
          "execution_count": 13
        }
      ]
    },
    {
      "cell_type": "code",
      "metadata": {
        "colab": {
          "base_uri": "https://localhost:8080/"
        },
        "id": "JFS5Iz1MT_N3",
        "outputId": "b02f39e4-4134-4419-d477-4a8497dca347"
      },
      "source": [
        "txtFrank.similarity(txtFrank)"
      ],
      "execution_count": null,
      "outputs": [
        {
          "output_type": "execute_result",
          "data": {
            "text/plain": [
              "1.0"
            ]
          },
          "metadata": {},
          "execution_count": 14
        }
      ]
    },
    {
      "cell_type": "code",
      "metadata": {
        "colab": {
          "base_uri": "https://localhost:8080/"
        },
        "id": "KphSMDA9Uaxt",
        "outputId": "9c90b64a-8ef3-4df8-c859-cf24847c90f7"
      },
      "source": [
        "txttur.similarity(txtFrank)"
      ],
      "execution_count": null,
      "outputs": [
        {
          "output_type": "execute_result",
          "data": {
            "text/plain": [
              "0.1710003942138613"
            ]
          },
          "metadata": {},
          "execution_count": 15
        }
      ]
    },
    {
      "cell_type": "code",
      "metadata": {
        "colab": {
          "base_uri": "https://localhost:8080/"
        },
        "id": "KeJooRGdZVvs",
        "outputId": "b922304b-292e-4cba-bba3-53cbaac481c9"
      },
      "source": [
        "import nltk\n",
        "nltk.download('stopwords')\n",
        "nltk.download('punkt')\n",
        "!python -m textblob.download_corpora"
      ],
      "execution_count": null,
      "outputs": [
        {
          "output_type": "stream",
          "name": "stdout",
          "text": [
            "[nltk_data] Downloading package stopwords to /root/nltk_data...\n",
            "[nltk_data]   Package stopwords is already up-to-date!\n",
            "[nltk_data] Downloading package punkt to /root/nltk_data...\n",
            "[nltk_data]   Package punkt is already up-to-date!\n",
            "[nltk_data] Downloading package brown to /root/nltk_data...\n",
            "[nltk_data]   Package brown is already up-to-date!\n",
            "[nltk_data] Downloading package punkt to /root/nltk_data...\n",
            "[nltk_data]   Package punkt is already up-to-date!\n",
            "[nltk_data] Downloading package wordnet to /root/nltk_data...\n",
            "[nltk_data]   Package wordnet is already up-to-date!\n",
            "[nltk_data] Downloading package averaged_perceptron_tagger to\n",
            "[nltk_data]     /root/nltk_data...\n",
            "[nltk_data]   Package averaged_perceptron_tagger is already up-to-\n",
            "[nltk_data]       date!\n",
            "[nltk_data] Downloading package conll2000 to /root/nltk_data...\n",
            "[nltk_data]   Package conll2000 is already up-to-date!\n",
            "[nltk_data] Downloading package movie_reviews to /root/nltk_data...\n",
            "[nltk_data]   Package movie_reviews is already up-to-date!\n",
            "Finished.\n"
          ]
        }
      ]
    },
    {
      "cell_type": "code",
      "metadata": {
        "id": "JKGYKUCJZq9H"
      },
      "source": [
        "# remove stop words\n",
        "from textblob import TextBlob\n",
        "from nltk.corpus import stopwords"
      ],
      "execution_count": null,
      "outputs": []
    },
    {
      "cell_type": "code",
      "metadata": {
        "id": "Es9rl4v4Z-ub"
      },
      "source": [
        "stop_words=stopwords.words(\"english\")\n",
        "frank_blob=TextBlob(Path('Frankenstein-book').read_text())\n",
        "math_blob=TextBlob(Path('Mathilda-book').read_text())\n",
        "gg_blob=TextBlob(Path('greatgatsby-book').read_text())"
      ],
      "execution_count": null,
      "outputs": []
    },
    {
      "cell_type": "code",
      "metadata": {
        "id": "ln5FZe1jajDf"
      },
      "source": [
        "fran_count= frank_blob.word_counts.items()\n",
        "math_count=math_blob.word_counts.items()\n",
        "gg_count=gg_blob.word_counts.items()"
      ],
      "execution_count": null,
      "outputs": []
    },
    {
      "cell_type": "code",
      "metadata": {
        "colab": {
          "base_uri": "https://localhost:8080/"
        },
        "id": "Ht_HvrRua1rS",
        "outputId": "84d4b8b8-17f6-43d5-b78a-b1d9ad79628c"
      },
      "source": [
        "len(fran_count)"
      ],
      "execution_count": null,
      "outputs": [
        {
          "output_type": "execute_result",
          "data": {
            "text/plain": [
              "7165"
            ]
          },
          "metadata": {},
          "execution_count": 20
        }
      ]
    },
    {
      "cell_type": "code",
      "metadata": {
        "colab": {
          "base_uri": "https://localhost:8080/"
        },
        "id": "9FMqwYeza4VX",
        "outputId": "2cc16f3c-2106-4dc7-adcc-b964371ca481"
      },
      "source": [
        "len(math_count)"
      ],
      "execution_count": null,
      "outputs": [
        {
          "output_type": "execute_result",
          "data": {
            "text/plain": [
              "5335"
            ]
          },
          "metadata": {},
          "execution_count": 21
        }
      ]
    },
    {
      "cell_type": "code",
      "metadata": {
        "colab": {
          "base_uri": "https://localhost:8080/"
        },
        "id": "8gWJIinVa508",
        "outputId": "f44c606d-b944-4a7b-f6b3-b219b61962ad"
      },
      "source": [
        "len(gg_count)"
      ],
      "execution_count": null,
      "outputs": [
        {
          "output_type": "execute_result",
          "data": {
            "text/plain": [
              "6244"
            ]
          },
          "metadata": {},
          "execution_count": 22
        }
      ]
    },
    {
      "cell_type": "code",
      "metadata": {
        "id": "V57gOYZMa8Ci"
      },
      "source": [
        "def remove_stop(words):\n",
        "  no_stop = []\n",
        "  for word in words:\n",
        "    if word[0] not in stop_words:\n",
        "      no_stop.append(word[0])\n",
        "  return no_stop"
      ],
      "execution_count": null,
      "outputs": []
    },
    {
      "cell_type": "code",
      "metadata": {
        "id": "5LjYgKapbQig"
      },
      "source": [
        "no_stop_fran= remove_stop(fran_count)\n",
        "no_stop_math= remove_stop(math_count)\n",
        "no_stop_gg= remove_stop(gg_count)\n"
      ],
      "execution_count": null,
      "outputs": []
    },
    {
      "cell_type": "code",
      "metadata": {
        "colab": {
          "base_uri": "https://localhost:8080/"
        },
        "id": "zD4v__GKbcba",
        "outputId": "6bb311d3-b43d-45dd-fc32-079fc804b7d0"
      },
      "source": [
        "len(no_stop_fran)"
      ],
      "execution_count": null,
      "outputs": [
        {
          "output_type": "execute_result",
          "data": {
            "text/plain": [
              "7036"
            ]
          },
          "metadata": {},
          "execution_count": 30
        }
      ]
    },
    {
      "cell_type": "code",
      "metadata": {
        "colab": {
          "base_uri": "https://localhost:8080/"
        },
        "id": "BZuqxUF5be5P",
        "outputId": "272ae78e-04a3-44af-f5ef-aa7086c2bc64"
      },
      "source": [
        "len(no_stop_math)"
      ],
      "execution_count": null,
      "outputs": [
        {
          "output_type": "execute_result",
          "data": {
            "text/plain": [
              "5204"
            ]
          },
          "metadata": {},
          "execution_count": 31
        }
      ]
    },
    {
      "cell_type": "code",
      "metadata": {
        "colab": {
          "base_uri": "https://localhost:8080/"
        },
        "id": "TWuduYnkbgEv",
        "outputId": "e9f0a134-5d81-4135-f2a4-6c2ddb2c0c7d"
      },
      "source": [
        "len(no_stop_gg)"
      ],
      "execution_count": null,
      "outputs": [
        {
          "output_type": "execute_result",
          "data": {
            "text/plain": [
              "6098"
            ]
          },
          "metadata": {},
          "execution_count": 32
        }
      ]
    },
    {
      "cell_type": "code",
      "metadata": {
        "colab": {
          "base_uri": "https://localhost:8080/"
        },
        "id": "b8yAT1s4bzd2",
        "outputId": "3d12fb01-1e35-4731-ff44-68914ab0f3b5"
      },
      "source": [
        "no_stop_fran[0:5]"
      ],
      "execution_count": null,
      "outputs": [
        {
          "output_type": "execute_result",
          "data": {
            "text/plain": [
              "['zelda', 'wear', 'gold', 'hat', 'move']"
            ]
          },
          "metadata": {},
          "execution_count": 34
        }
      ]
    },
    {
      "cell_type": "code",
      "metadata": {
        "id": "8lxjjNExb93H"
      },
      "source": [
        "from wordcloud import  WordCloud\n",
        "word_cloud_fran=str1 = ' '.join(no_stop_fran)\n",
        "wordcloudfran=WordCloud().generate(word_cloud_fran)"
      ],
      "execution_count": null,
      "outputs": []
    },
    {
      "cell_type": "code",
      "metadata": {
        "colab": {
          "base_uri": "https://localhost:8080/",
          "height": 215
        },
        "id": "LkOMqoWrcJV8",
        "outputId": "8970bb50-34d8-429d-f537-aefcea7c2cb4"
      },
      "source": [
        "import matplotlib.pyplot as plt \n",
        "plt.imshow(wordcloudfran,interpolation='bilinear')\n",
        "plt.axis(\"off\")"
      ],
      "execution_count": null,
      "outputs": [
        {
          "output_type": "execute_result",
          "data": {
            "text/plain": [
              "(-0.5, 399.5, 199.5, -0.5)"
            ]
          },
          "metadata": {},
          "execution_count": 38
        },
        {
          "output_type": "display_data",
          "data": {
            "image/png": "[encoded data removed]",
            "text/plain": [
              "<Figure size 432x288 with 1 Axes>"
            ]
          },
          "metadata": {
            "needs_background": "light"
          }
        }
      ]
    },
    {
      "cell_type": "code",
      "metadata": {
        "colab": {
          "base_uri": "https://localhost:8080/",
          "height": 204
        },
        "id": "x2DBK2xNcztP",
        "outputId": "36f67ba0-31da-4efb-e4a5-f159c03b9234"
      },
      "source": [
        "from pandas import DataFrame\n",
        "df = DataFrame(no_stop_fran,columns=[\"fran-words\"])\n",
        "df.head()"
      ],
      "execution_count": null,
      "outputs": [
        {
          "output_type": "execute_result",
          "data": {
            "text/html": [
              "<div>\n",
              "<style scoped>\n",
              "    .dataframe tbody tr th:only-of-type {\n",
              "        vertical-align: middle;\n",
              "    }\n",
              "\n",
              "    .dataframe tbody tr th {\n",
              "        vertical-align: top;\n",
              "    }\n",
              "\n",
              "    .dataframe thead th {\n",
              "        text-align: right;\n",
              "    }\n",
              "</style>\n",
              "<table border=\"1\" class=\"dataframe\">\n",
              "  <thead>\n",
              "    <tr style=\"text-align: right;\">\n",
              "      <th></th>\n",
              "      <th>fran-words</th>\n",
              "    </tr>\n",
              "  </thead>\n",
              "  <tbody>\n",
              "    <tr>\n",
              "      <th>0</th>\n",
              "      <td>letter</td>\n",
              "    </tr>\n",
              "    <tr>\n",
              "      <th>1</th>\n",
              "      <td>1</td>\n",
              "    </tr>\n",
              "    <tr>\n",
              "      <th>2</th>\n",
              "      <td>mrs</td>\n",
              "    </tr>\n",
              "    <tr>\n",
              "      <th>3</th>\n",
              "      <td>saville</td>\n",
              "    </tr>\n",
              "    <tr>\n",
              "      <th>4</th>\n",
              "      <td>england</td>\n",
              "    </tr>\n",
              "  </tbody>\n",
              "</table>\n",
              "</div>"
            ],
            "text/plain": [
              "  fran-words\n",
              "0     letter\n",
              "1          1\n",
              "2        mrs\n",
              "3    saville\n",
              "4    england"
            ]
          },
          "metadata": {},
          "execution_count": 41
        }
      ]
    },
    {
      "cell_type": "code",
      "metadata": {
        "id": "DJBiMnfFdE5o"
      },
      "source": [
        "df.to_csv(\"fran-words.txt\",index=False)"
      ],
      "execution_count": null,
      "outputs": []
    },
    {
      "cell_type": "code",
      "metadata": {
        "id": "FvFTVmdGdVNg"
      },
      "source": [
        ""
      ],
      "execution_count": null,
      "outputs": []
    }
  ]
}